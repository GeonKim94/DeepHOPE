{
 "cells": [
  {
   "cell_type": "code",
   "execution_count": null,
   "metadata": {},
   "outputs": [],
   "source": [
    "import torch\n",
    "import matplotlib\n",
    "matplotlib.use('Agg')\n",
    "import matplotlib.pyplot as plt\n",
    "import numpy as np\n",
    "from scipy.io import savemat"
   ]
  },
  {
   "cell_type": "code",
   "execution_count": null,
   "metadata": {},
   "outputs": [],
   "source": [
    "import numpy as np\n",
    "import os\n",
    "import matplotlib.pyplot as plt\n",
    "from glob import glob\n",
    "\n",
    "\n",
    "# device = torch.device(\"cpu\")\n",
    "os.environ[\"CUDA_VISIBLE_DEVICES\"] = \"4\"\n",
    "device = torch.device(\"cuda\")\n",
    "\n",
    "#dirs = sorted(os.listdir(\"outs\"))\n",
    "#list(enumerate(dirs))"
   ]
  },
  {
   "cell_type": "code",
   "execution_count": null,
   "metadata": {},
   "outputs": [],
   "source": [
    "\n",
    "ckpoint_path = \"/data02/gkim/stem_cell_jwshin/outs/230811+230502_SEC1H5_wider_v3_allh_noJAX_onRA_fishdeep1_b008_in_lr0.001/epoch[00154]_tr[0.969]_va[1.000]_te[0.977]_trW[0.969]_vaW[1.000]_teW[0.977].pth.tar\""
   ]
  },
  {
   "cell_type": "code",
   "execution_count": null,
   "metadata": {},
   "outputs": [],
   "source": [
    "#from models.fishnet2 import fishdw2, fishdw, fish150\n",
    "#net = fishdw(num_classes=2, norm=\"bn\", act=\"lrelu\")\n",
    "from models.fishnet2_2d import fishdeep1_2d\n",
    "net = fishdeep1_2d(input_c=12, num_classes=2, norm=\"in\", act=\"lrelu\")\n",
    "\n",
    "\n",
    "net = torch.nn.DataParallel(net)\n",
    "state = torch.load(ckpoint_path)[\"network\"]\n",
    "net.load_state_dict(state)\n",
    "model = net.module\n",
    "model.to(device)\n",
    "print(\"Net Load\")"
   ]
  },
  {
   "cell_type": "code",
   "execution_count": null,
   "metadata": {},
   "outputs": [],
   "source": [
    "net = net.module # for unwrapping from torch.dataparallel"
   ]
  },
  {
   "cell_type": "code",
   "execution_count": null,
   "metadata": {},
   "outputs": [],
   "source": [
    "from visualizes.GradCam2d import GradCam2d\n",
    "#from visualizes.GradCam import GradCam\n",
    "\n",
    "from visualizes.GuidedBackpropReLUModel import GuidedBackpropReLUModel\n",
    "#gb_model = GuidedBackpropReLUModel(model, device=device)"
   ]
  },
  {
   "cell_type": "code",
   "execution_count": null,
   "metadata": {},
   "outputs": [],
   "source": [
    "# from datas.preprocess3d import TRAIN_AUGS_3D, TEST_AUGS_3D\n",
    "# from datas.preprocess2d import TRAIN_AUGS_2D, TEST_AUGS_2D\n",
    "from datas.preprocess25d import TRAIN_AUGS_25D, TEST_AUGS_25D\n",
    "#from datas.BacLoader import bacLoader\n",
    "#data_path = \"/data2/DW/180930_bac/valid40/\"\n",
    "#test_loader = bacLoader(data_path + \"test\", 1, task=\"bac\", sampler=False,\n",
    "#                        transform=TEST_AUGS_3D, aug_rate=0,\n",
    "#                        num_workers=16, shuffle=False, drop_last=False)\n",
    "from datas.TomoLoader import TomoLoader\n",
    "data_path = \"/data02/gkim/stem_cell_jwshin/data/23_SEC1H5_wider_v3_testiPSC/\"\n",
    "test_loader = TomoLoader(data_path + \"test\", 1,\n",
    "               transform=TEST_AUGS_25D, aug_rate=0,\n",
    "               num_workers=16, shuffle=False, drop_last=False)"
   ]
  },
  {
   "cell_type": "code",
   "execution_count": null,
   "metadata": {},
   "outputs": [],
   "source": [
    "# name_part = \"head_layer\" # \"body_layer\" # \"tail_layer\"\n",
    "# idx_layer = 3\n",
    "# model._modules[name_part][idx_layer]._modules['layer']._modules['layer'][0]"
   ]
  },
  {
   "cell_type": "code",
   "execution_count": null,
   "metadata": {},
   "outputs": [],
   "source": [
    "import torch.nn.functional as F\n",
    "name_part = \"head_layer\" # \"body_layer\" # \"tail_layer\"\n",
    "idx_layer = 1\n",
    "# model._modules[name_part][idx_layer]._modules['layer'][0]"
   ]
  },
  {
   "cell_type": "code",
   "execution_count": null,
   "metadata": {},
   "outputs": [],
   "source": [
    "\n",
    "for i, (input_, label_, path) in enumerate(test_loader):\n",
    "\n",
    "    torch.cuda.empty_cache()\n",
    "    grad_cam = GradCam2d(model, name_part, idx_layer, device=device) #hooks=[\"features\", \"transition1\"]\n",
    "    gb_model = GuidedBackpropReLUModel(model=model, device=device)\n",
    "\n",
    "    input_.requires_grad_(True)    \n",
    "    \n",
    "    respond_cam0, gdcam0, gdcampp0, predict = grad_cam.multicam(input_, 0)#gunhocam0, \n",
    "    respond_cam1, gdcam1, gdcampp1, predict = grad_cam.multicam(input_, 1)#gunhocam1, \n",
    "    # respond_cam2, gdcam2, gdcampp2, predict = grad_cam.multicam(input_, 2)#gunhocam1, \n",
    "    gb_img0 = gb_model(input_, 0)\n",
    "    gb_img1 = gb_model(input_, 1)\n",
    "    img = input_[0].detach().numpy()\n",
    "    \n",
    "    label = test_loader.dataset.idx_to_class[label_.item()]\n",
    "    pred = test_loader.dataset.idx_to_class[predict.item()]\n",
    "    fig = plt.figure(figsize=(20, 20))\n",
    "    plt.suptitle(\"File : %s\\n Label : %s, pred : %s\"%(path, label, pred),\n",
    "                 fontsize=16, y=0.61)\n",
    "    # print(input_.shape)\n",
    "    # print(img.shape)\n",
    "    # print(gb_img0.shape)\n",
    "    # print(np.max(gb_img0, axis = 0).shape)\n",
    "    # print(np.squeeze(np.max(gb_img0, axis = 0)).shape)\n",
    "    ## for 2d\n",
    "    ax = plt.subplot(2, 4, 1)\n",
    "    ax.set_title(\"RI\")\n",
    "    plt.imshow(np.squeeze(np.max(img, axis = 0)), cmap = \"gray\")\n",
    "\n",
    "    ax = plt.subplot(2, 4, 2)\n",
    "    ax.set_title(\"GradCAM 0\")\n",
    "    plt.imshow(gdcam0, cmap = \"jet\")#gdcam[:, :, zdim],       cmap=cmap)\n",
    "    \n",
    "    ax = plt.subplot(2, 4, 3)\n",
    "    ax.set_title(\"GuidedBP 0\")\n",
    "    plt.imshow(np.squeeze(np.max(gb_img0, axis = 0)), cmap = \"gray\")#gdcam[:, :, zdim],       cmap=cmap)\n",
    "   \n",
    "    ax = plt.subplot(2, 4, 4)\n",
    "    ax.set_title(\"Multiplied 0\")\n",
    "    plt.imshow(np.multiply(np.squeeze(np.max(gb_img0, axis = 0)),np.resize(gdcam0, gb_img0.shape[1:])), cmap = \"jet\")\n",
    "    \n",
    "    ax = plt.subplot(2, 4, 6)\n",
    "    ax.set_title(\"GradCAM 1\")\n",
    "    plt.imshow(gdcam1, cmap = \"jet\")#gdcam[:, :, zdim],       cmap=cmap)\n",
    "    \n",
    "    ax = plt.subplot(2, 4, 7)\n",
    "    ax.set_title(\"GuidedBP 1\")\n",
    "    plt.imshow(np.squeeze(np.max(gb_img1, axis = 0)), cmap = \"gray\")#gdcam[:, :, zdim],       cmap=cmap)\n",
    "   \n",
    "    ax = plt.subplot(2, 4, 8)\n",
    "    ax.set_title(\"Multiplied 1\")\n",
    "    plt.imshow(np.multiply(np.squeeze(np.max(gb_img1, axis = 0)),np.resize(gdcam1, gb_img1.shape[1:])), cmap = \"jet\")\n",
    "    \n",
    "\n",
    "    \n",
    "    save_path = \"/data02/gkim/stem_cell_jwshin/outs/230811+230502_SEC1H5_wider_v3_allh_noJAX_onRA_fishdeep1_b008_in_lr0.001/cams/epoch[00154]/\" + name_part + \"{}\".format(idx_layer) +  \"/\" + (\"True/\" if label == pred else \"False/\")\n",
    "    img_path = \"/data02/gkim/stem_cell_jwshin/outs/230811+230502_SEC1H5_wider_v3_allh_noJAX_onRA_fishdeep1_b008_in_lr0.001/cams_png/epoch[00154]/\" + name_part + \"{}\".format(idx_layer) +  \"/\" + (\"True/\" if label == pred else \"False/\")\n",
    "\n",
    "    # save_path = \"/data02/gkim/stem_cell_jwshin/outs/230407_MIP_b004_in_lr0.001/epoch[00009]_cams/\" + name_part + \"{}\".format(idx_layer) +  \"/\" + (\"True/\" if label == pred else \"False/\")\n",
    "    #\"/data02/gkim/stem_cell_jwshin/outs/220803_3D_b016_lr0.001/epoch[00012]_cams_\" + name_part + \"{}\".format(idx_layer) +  \"/\" + (\"True/\" if label == pred else \"False/\")\n",
    "    #print(save_path + file_name)\n",
    "    file_name = path[0][path[0].find(\"/test/\") + 6:-4] + \".png\"\n",
    "    os.makedirs(os.path.dirname(save_path + file_name), exist_ok=True)\n",
    "    os.makedirs(os.path.dirname(img_path + file_name), exist_ok=True)\n",
    "    plt.savefig(img_path + file_name, dpi=fig.dpi)\n",
    "    \n",
    "    file_name = path[0][path[0].find(\"/test/\") +  6:-4]\n",
    "    dict_data = {'ri':img, 'respcam0':respond_cam0, 'gradcam0':gdcam0, 'gradcampp0':gdcampp0, \n",
    "    'respcam1':respond_cam1, 'gradcam1':gdcam1, 'gradcampp1':gdcampp1,\n",
    "    'guidedbp0':gb_img0,'guidedbp1':gb_img1, \n",
    "    'label':label, 'pred':pred}#'guidedbp0':gb_img0,'guidedbp1':gb_img1, \n",
    "    savemat(save_path+file_name, dict_data)\n",
    "\n",
    "    print(save_path + file_name)\n",
    "    print(img_path + file_name)\n",
    "    #print(save_path + file_name)\n",
    "    \n",
    "    # plt.show()\n",
    "    plt.close()\n",
    "    \n",
    "    del grad_cam"
   ]
  }
 ],
 "metadata": {
  "kernelspec": {
   "display_name": "env_fish",
   "language": "python",
   "name": "python3"
  },
  "language_info": {
   "codemirror_mode": {
    "name": "ipython",
    "version": 3
   },
   "file_extension": ".py",
   "mimetype": "text/x-python",
   "name": "python",
   "nbconvert_exporter": "python",
   "pygments_lexer": "ipython3",
   "version": "3.7.16"
  }
 },
 "nbformat": 4,
 "nbformat_minor": 2
}
