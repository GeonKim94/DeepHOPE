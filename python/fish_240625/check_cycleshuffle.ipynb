{
 "cells": [
  {
   "cell_type": "code",
   "execution_count": 1,
   "metadata": {},
   "outputs": [
    {
     "name": "stdout",
     "output_type": "stream",
     "text": [
      "4\n",
      "10\n"
     ]
    }
   ],
   "source": [
    "import torch\n",
    "from torch.utils.data import DataLoader, TensorDataset\n",
    "\n",
    "# Create a simple dataset\n",
    "data = torch.arange(10)  # Assuming you have 100 samples\n",
    "labels = torch.zeros(10)  # Dummy labels\n",
    "\n",
    "dataset = TensorDataset(data, labels)\n",
    "\n",
    "# Create a DataLoader with shuffling\n",
    "train_loader = DataLoader(dataset, batch_size=3, shuffle=True)\n",
    "print(len(train_loader))\n",
    "print(len(train_loader.dataset))"
   ]
  },
  {
   "cell_type": "code",
   "execution_count": 2,
   "metadata": {},
   "outputs": [
    {
     "name": "stdout",
     "output_type": "stream",
     "text": [
      "[tensor([1, 2, 3]), tensor([0., 0., 0.])]\n",
      "[tensor([4, 0, 5]), tensor([0., 0., 0.])]\n",
      "[tensor([8, 7, 6]), tensor([0., 0., 0.])]\n",
      "[tensor([9]), tensor([0.])]\n",
      "End of epoch: 0\n",
      "[tensor([4, 0, 6]), tensor([0., 0., 0.])]\n",
      "[tensor([7, 9, 2]), tensor([0., 0., 0.])]\n",
      "[tensor([1, 8, 3]), tensor([0., 0., 0.])]\n",
      "[tensor([5]), tensor([0.])]\n",
      "End of epoch: 1\n"
     ]
    }
   ],
   "source": [
    "num_epochs = 2\n",
    "# Training loop\n",
    "for epoch in range(num_epochs):\n",
    "    for batch in train_loader:\n",
    "        # Training logic goes here\n",
    "        print(batch)\n",
    "    # End of epoch\n",
    "    print(\"End of epoch:\", epoch)"
   ]
  },
  {
   "cell_type": "code",
   "execution_count": 3,
   "metadata": {},
   "outputs": [
    {
     "name": "stdout",
     "output_type": "stream",
     "text": [
      "[tensor([5, 1, 4]), tensor([0., 0., 0.])]\n",
      "[tensor([0, 3, 6]), tensor([0., 0., 0.])]\n",
      "[tensor([7, 9, 2]), tensor([0., 0., 0.])]\n",
      "[tensor([8]), tensor([0.])]\n",
      "End of epoch: 0\n",
      "[tensor([5, 1, 4]), tensor([0., 0., 0.])]\n",
      "[tensor([0, 3, 6]), tensor([0., 0., 0.])]\n",
      "[tensor([7, 9, 2]), tensor([0., 0., 0.])]\n",
      "[tensor([8]), tensor([0.])]\n",
      "End of epoch: 1\n"
     ]
    }
   ],
   "source": [
    "import itertools\n",
    "num_epochs = 2\n",
    "\n",
    "enum_train = itertools.cycle(train_loader)\n",
    "# Training loop\n",
    "for epoch in range(num_epochs):\n",
    "    num_batch = 0\n",
    "    for batch in enum_train:\n",
    "        # Training logic goes here\n",
    "        print(batch)\n",
    "        num_batch += 1\n",
    "        \n",
    "        if num_batch == len(train_loader):\n",
    "            enum_train\n",
    "            break\n",
    "    # End of epoch\n",
    "    print(\"End of epoch:\", epoch)"
   ]
  },
  {
   "cell_type": "code",
   "execution_count": 4,
   "metadata": {},
   "outputs": [
    {
     "name": "stdout",
     "output_type": "stream",
     "text": [
      "[tensor([4, 3, 5]), tensor([0., 0., 0.])]\n",
      "[tensor([0, 9, 7]), tensor([0., 0., 0.])]\n",
      "[tensor([1, 8, 2]), tensor([0., 0., 0.])]\n",
      "[tensor([6]), tensor([0.])]\n",
      "End of epoch: 0\n",
      "[tensor([9, 5, 0]), tensor([0., 0., 0.])]\n",
      "[tensor([1, 2, 6]), tensor([0., 0., 0.])]\n",
      "[tensor([8, 7, 3]), tensor([0., 0., 0.])]\n",
      "[tensor([4]), tensor([0.])]\n",
      "End of epoch: 1\n"
     ]
    }
   ],
   "source": [
    "class CustomSampler(torch.utils.data.Sampler):\n",
    "    def __init__(self, data_source):\n",
    "        self.data_source = data_source\n",
    "        self.num_samples = len(data_source)\n",
    "\n",
    "    def __iter__(self):\n",
    "        return iter(torch.randperm(self.num_samples).tolist())\n",
    "\n",
    "    def __len__(self):\n",
    "        return self.num_samples\n",
    "\n",
    "        \n",
    "import itertools\n",
    "num_epochs = 2\n",
    "\n",
    "# Training loop\n",
    "for epoch in range(num_epochs):\n",
    "    train_loader = DataLoader(dataset, batch_size=3, shuffle=False, sampler = CustomSampler(dataset))\n",
    "    enum_train = itertools.cycle(train_loader)\n",
    "    num_batch = 0\n",
    "    for batch in enum_train:\n",
    "        # Training logic goes here\n",
    "        print(batch)\n",
    "        num_batch += 1\n",
    "        \n",
    "        if num_batch == len(train_loader):\n",
    "            enum_train\n",
    "            break\n",
    "    # End of epoch\n",
    "    print(\"End of epoch:\", epoch)"
   ]
  },
  {
   "cell_type": "code",
   "execution_count": null,
   "metadata": {},
   "outputs": [],
   "source": [
    "print(enum_train.__class__ == itertools.cycle)"
   ]
  }
 ],
 "metadata": {
  "kernelspec": {
   "display_name": "env_fish",
   "language": "python",
   "name": "python3"
  },
  "language_info": {
   "codemirror_mode": {
    "name": "ipython",
    "version": 3
   },
   "file_extension": ".py",
   "mimetype": "text/x-python",
   "name": "python",
   "nbconvert_exporter": "python",
   "pygments_lexer": "ipython3",
   "version": "3.7.16"
  }
 },
 "nbformat": 4,
 "nbformat_minor": 2
}
