{
 "cells": [
  {
   "cell_type": "code",
   "execution_count": 2,
   "metadata": {},
   "outputs": [
    {
     "data": {
      "text/plain": [
       "[(0, '181001_dense169_3D_bac18'),\n",
       " (1, '181002_dense201_3D_bac18'),\n",
       " (2, '181003_dense169_shape'),\n",
       " (3, 'sdf'),\n",
       " (4, 'sdif')]"
      ]
     },
     "execution_count": 2,
     "metadata": {},
     "output_type": "execute_result"
    }
   ],
   "source": [
    "import numpy as np\n",
    "import os\n",
    "import matplotlib.pyplot as plt\n",
    "plt.rcParams.update({'figure.max_open_warning': 0})\n",
    "\n",
    "from glob import glob\n",
    "\n",
    "dirs = sorted(os.listdir(\"outs\"))\n",
    "list(enumerate(dirs))"
   ]
  },
  {
   "cell_type": "code",
   "execution_count": 3,
   "metadata": {},
   "outputs": [
    {
     "name": "stdout",
     "output_type": "stream",
     "text": [
      "/data2/DW/180930_bac/bacteria_classification/outs/181001_dense169_3D_bac18\n"
     ]
    }
   ],
   "source": [
    "target_dir =  os.getcwd() + \"/outs/\" + dirs[0]\n",
    "print(target_dir)"
   ]
  },
  {
   "cell_type": "code",
   "execution_count": 4,
   "metadata": {},
   "outputs": [
    {
     "name": "stdout",
     "output_type": "stream",
     "text": [
      "Net Load\n"
     ]
    }
   ],
   "source": [
    "import torch; torch_device = torch.device(\"cpu\")\n",
    "from models.Densenet3d_nomaxpool import densenet169, densenet121, densenet201\n",
    "net = densenet169(num_classes=18, sample_size=64, sample_duration=96)\n",
    "net = torch.nn.DataParallel(net)\n",
    "state = torch.load(sorted(glob(target_dir + \"/*.tar\"))[-1])[\"network\"]\n",
    "net.load_state_dict(state)\n",
    "net = net.module\n",
    "net.to(torch_device)\n",
    "print(\"Net Load\")"
   ]
  },
  {
   "cell_type": "code",
   "execution_count": 5,
   "metadata": {},
   "outputs": [
    {
     "name": "stderr",
     "output_type": "stream",
     "text": [
      "/usr/lib/python3.5/importlib/_bootstrap.py:222: RuntimeWarning: numpy.dtype size changed, may indicate binary incompatibility. Expected 96, got 88\n",
      "  return f(*args, **kwds)\n",
      "/usr/lib/python3.5/importlib/_bootstrap.py:222: RuntimeWarning: numpy.dtype size changed, may indicate binary incompatibility. Expected 96, got 88\n",
      "  return f(*args, **kwds)\n"
     ]
    },
    {
     "data": {
      "text/plain": [
       "337"
      ]
     },
     "execution_count": 5,
     "metadata": {},
     "output_type": "execute_result"
    }
   ],
   "source": [
    "from datas.BacLoader import bacLoader\n",
    "import datas.preprocess3d as preprocess\n",
    "\n",
    "data_path = \"/data2/DW/180930_bac/Bacteria/\"\n",
    "test_preprocess = preprocess.get_preprocess(\"test\")\n",
    "test_loader = bacLoader(data_path + \"test\", 1, task=\"multi\",\n",
    "                             transform=test_preprocess,\n",
    "                             num_workers=16, infer=True, shuffle=False, drop_last=False)\n",
    "len(test_loader)"
   ]
  },
  {
   "cell_type": "code",
   "execution_count": null,
   "metadata": {},
   "outputs": [],
   "source": [
    "import torch.nn.functional as F\n",
    "torch.set_printoptions(precision=5)\n",
    "\n",
    "imgs = []\n",
    "net.eval()\n",
    "with torch.no_grad():\n",
    "    idx_to_class = {v:k for k, v in test_loader.dataset.class_to_idx.items()}\n",
    "    \n",
    "    for input_, target_, path in test_loader:\n",
    "        input_ = input_.to(torch_device)\n",
    "        output_ = net(input_)\n",
    "        output_ = F.softmax(output_, dim=1)\n",
    "        _, idx = output_.max(dim=1)\n",
    "        \n",
    "        if idx.item() != target_.item():\n",
    "            topk, indices = output_.topk(3)            \n",
    "            label = idx_to_class[target_.item()]\n",
    "            indices = [(idx_to_class[i], v) for i, v in zip(indices.view(-1).tolist(), topk.view(-1).tolist())]\n",
    "            title = \"Label : %s | Pred : %s : %.4f, %s : %.4f, %s : %.4f\"%(label,\n",
    "                                                                                                           *[z for i in indices for z in i])\n",
    "            imgs.append((path, title))"
   ]
  },
  {
   "cell_type": "code",
   "execution_count": null,
   "metadata": {},
   "outputs": [],
   "source": [
    "len(imgs)"
   ]
  },
  {
   "cell_type": "code",
   "execution_count": null,
   "metadata": {},
   "outputs": [],
   "source": [
    "from scipy.io import loadmat\n",
    "for path, title in imgs:\n",
    "    pass"
   ]
  },
  {
   "cell_type": "code",
   "execution_count": null,
   "metadata": {},
   "outputs": [],
   "source": []
  }
 ],
 "metadata": {
  "kernelspec": {
   "display_name": "Python 3",
   "language": "python",
   "name": "python3"
  },
  "language_info": {
   "codemirror_mode": {
    "name": "ipython",
    "version": 3
   },
   "file_extension": ".py",
   "mimetype": "text/x-python",
   "name": "python",
   "nbconvert_exporter": "python",
   "pygments_lexer": "ipython3",
   "version": "3.5.2"
  }
 },
 "nbformat": 4,
 "nbformat_minor": 2
}
