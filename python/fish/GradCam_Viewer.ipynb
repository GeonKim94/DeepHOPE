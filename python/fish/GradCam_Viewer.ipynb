{
 "cells": [
  {
   "cell_type": "code",
   "execution_count": null,
   "metadata": {},
   "outputs": [],
   "source": [
    "import torch\n",
    "import matplotlib.pyplot as plt\n",
    "import numpy as np\n",
    "\n",
    "device = torch.device(\"cpu\")"
   ]
  },
  {
   "cell_type": "code",
   "execution_count": 2,
   "metadata": {},
   "outputs": [
    {
     "data": {
      "text/plain": [
       "[(0, '181001_dense169_3D_bac18'),\n",
       " (1, '181002_dense201_3D_bac18'),\n",
       " (2, '181003_dense169_gen'),\n",
       " (3, '181003_dense169_mot'),\n",
       " (4, '181003_dense169_shape'),\n",
       " (5, '181004_attvgg_18bac'),\n",
       " (6, '181005_dense169_allmulti'),\n",
       " (7, '181005_dense169_gramshapemot'),\n",
       " (8, '181007_dense169_allmulti'),\n",
       " (9, '181008_dense169_gram'),\n",
       " (10, '181008_dense169_shape'),\n",
       " (11, '181009_genus'),\n",
       " (12, '181009_gram'),\n",
       " (13, '181009_mot'),\n",
       " (14, '181009_shape'),\n",
       " (15, '181010_z10to30_aug004_b64'),\n",
       " (16, '181010_z10to30_aug00_b64'),\n",
       " (17, '181010_z10to30_aug05_b64'),\n",
       " (18, '181010_z10to30_aug30_b64'),\n",
       " (19, '181012_cascade'),\n",
       " (20, '181012_noaug30_z10to30_b64'),\n",
       " (21, '181012_noaug50_z10to30_b64'),\n",
       " (22, '181013_dp131_b64'),\n",
       " (23, '181013_dpn107_b64'),\n",
       " (24, '181013_dpn98_b64'),\n",
       " (25, '181013_dpn98_z10to40'),\n",
       " (26, '181014_dpn107_b64'),\n",
       " (27, '181014_dpn107fix_b64'),\n",
       " (28, '181014_dpn131fix_b64'),\n",
       " (29, '181016_lrelu_z10to30_b64_pre50_nopre100'),\n",
       " (30, '181017_newdata_lrelu_z10to30_b64_pre50_nopre100'),\n",
       " (31, '181017_newdata_weightsample_lrelu_z10to30_b64_pre50_nopre100'),\n",
       " (32, '181018_newdata_calib7_weightsample_lrelu_z10to30_b64_pre50_nopre100'),\n",
       " (33, '181018_newdata_weightsample_lrelu_z10to30_b64_pre50_nopre100'),\n",
       " (34, '181019_newdata_weightsample_lrelu_z10to30_b64_pre50_nopre100'),\n",
       " (35, '181021_newdata_weightsample_lrelu_z10to30_b64_pre50_nopre100'),\n",
       " (36, '181022_SEDense_nocrop_lrelu_sampler_b64'),\n",
       " (37, '181024_SE01_sampler_cro_p_aug05'),\n",
       " (38, '181024_SE01_sampler_crop'),\n",
       " (39, '181024_SE01_sampler_crop_noaug'),\n",
       " (40, '181024_SE0_sampler_crop_aug05'),\n",
       " (41, '181024_SE0_sampler_crop_noaug'),\n",
       " (42, '181026_SE01_sampler_nocrop_aug05'),\n",
       " (43, '181026_SE02_sampler_nocrop_aug05'),\n",
       " (44, '181026_SE12_sampler_nocrop_aug05'),\n",
       " (45, '181026_SE1_sampler_nocrop_aug05'),\n",
       " (46, '181029_multicrop_aug03'),\n",
       " (47, '181029_multicrop_aug05'),\n",
       " (48, '181031_afd169_b64_s_lrelu_aug05'),\n",
       " (49, '181031_afd169_b64_sampler_lrelu_aug05'),\n",
       " (50, '181031_cutout38_aug05_s'),\n",
       " (51, '181102_baseline'),\n",
       " (52, '181103_baseline_noaug_valid40'),\n",
       " (53, '181103_sed169'),\n",
       " (54, '181104_base_aug05_valid40'),\n",
       " (55, '181104_base_b32_noaug_valid40'),\n",
       " (56, '181104_base_b64_aug05_valid40'),\n",
       " (57, '181104_base_b64_noaug_valid40'),\n",
       " (58, '181104_sed169_aug05_valid40'),\n",
       " (59, '181105_base_b64_aug03_valid40'),\n",
       " (60, '181105_base_b64_noaug_valid40_sgd_decay0001'),\n",
       " (61, '181105_base_b64_noaug_valid40_sgd_decay0_lr01'),\n",
       " (62, '181105_base_b64_noaug_valid40_sgd_decay0_lr10'),\n",
       " (63, '181107_fold'),\n",
       " (64, '181109_base_b64_noaug_valid40_sgd_decay0_lr0001_nolrdecay'),\n",
       " (65, '181110_base_b64_noaug_valid40_sgd_decay0_lr001_nolrdecay'),\n",
       " (66, '181110_base_b64_noaug_valid40_sgd_decay0_lr01_nolrdecay'),\n",
       " (67, '181110_fold'),\n",
       " (68, '181111_adam_cosine_tmax100_lr0.00001'),\n",
       " (69, '181111_sgd_cosine_tmax100_lr0.00001'),\n",
       " (70, '181111_sgd_cosine_tmax100_lr0.001'),\n",
       " (71, '181111_sgd_cosine_tmax100_lr0.01')]"
      ]
     },
     "execution_count": 2,
     "metadata": {},
     "output_type": "execute_result"
    }
   ],
   "source": [
    "import numpy as np\n",
    "import os\n",
    "import matplotlib.pyplot as plt\n",
    "from glob import glob\n",
    "\n",
    "dirs = sorted(os.listdir(\"outs\"))\n",
    "list(enumerate(dirs))"
   ]
  },
  {
   "cell_type": "code",
   "execution_count": 3,
   "metadata": {},
   "outputs": [
    {
     "data": {
      "text/plain": [
       "'outs/181104_base_b64_noaug_valid40/epoch[00189]_acc[0.9333]_test[0.9514].pth.tar'"
      ]
     },
     "execution_count": 3,
     "metadata": {},
     "output_type": "execute_result"
    }
   ],
   "source": [
    "target_dir = dirs[57]\n",
    "ckpoint_path = sorted(glob(\"outs/\" + target_dir + \"/epoch*\"))[-1]\n",
    "ckpoint_path"
   ]
  },
  {
   "cell_type": "code",
   "execution_count": 4,
   "metadata": {},
   "outputs": [
    {
     "name": "stdout",
     "output_type": "stream",
     "text": [
      "Net Load\n"
     ]
    }
   ],
   "source": [
    "import torch\n",
    "from models.Densenet3d_nomaxpool import d169_3d\n",
    "net = d169_3d(num_classes=18, sample_size=64, sample_duration=96,\n",
    "              norm=\"bn\", act=\"lrelu\", se=[], af=[])\n",
    "\n",
    "net = torch.nn.DataParallel(net)\n",
    "state = torch.load(ckpoint_path)[\"network\"]\n",
    "net.load_state_dict(state)\n",
    "model = net.module\n",
    "model.to(device)\n",
    "print(\"Net Load\")"
   ]
  },
  {
   "cell_type": "code",
   "execution_count": 5,
   "metadata": {},
   "outputs": [],
   "source": [
    "from visualizes.GradCam import GradCam\n",
    "# grad_cam = GradCam.get_layer_name(model)"
   ]
  },
  {
   "cell_type": "code",
   "execution_count": 6,
   "metadata": {},
   "outputs": [],
   "source": [
    "# from visualizes.GradCam_torch import GradCamPyTorch as GradCam\n",
    "from visualizes.GradCam import GradCam\n",
    "\n",
    "grad_cam = GradCam(model=model, hooks=[\"features\", \"transition1\"], device=device)\n",
    "# Make New model variance\n",
    "\n",
    "from visualizes.GuidedBackpropReLUModel import GuidedBackpropReLUModel\n",
    "gb_model = GuidedBackpropReLUModel(model=model, device=device)"
   ]
  },
  {
   "cell_type": "code",
   "execution_count": 7,
   "metadata": {},
   "outputs": [
    {
     "name": "stdout",
     "output_type": "stream",
     "text": [
      "{'Smaltophilia': 10, 'Micrococcus_luteus': 7, 'Escherichia_coli': 4, 'Streptococcus_agalactiae': 14, 'Streptococcus_anginosus': 15, 'Acinetobacter_baumannii': 0, 'Streptococcus_pneumoniae': 16, 'Staphylococcus_aureus': 12, 'Streptococcus_pyogenes': 17, 'Enterococcus_faecalis': 3, 'Bacillus_subtilis': 1, 'Pseudomonas_aeruginosa': 9, 'Staphylococcus_epidermidis': 13, 'Proteus_mirabilis': 8, 'Enterobacter_cloacae': 2, 'Listeria_monocytogenes': 6, 'Klebsiella_pneumoniae': 5, 'Smarcescens': 11}\n",
      "Dataset Dir :  /data2/DW/180930_bac/valid40/test len :  720\n"
     ]
    }
   ],
   "source": [
    "from datas.BacLoader import bacLoader\n",
    "from datas.preprocess3d import TRAIN_AUGS_3D, TEST_AUGS_3D\n",
    "\n",
    "data_path = \"/data2/DW/180930_bac/valid40/\"\n",
    "\n",
    "test_loader = bacLoader(data_path + \"test\", 1, task=\"bac\", sampler=False,\n",
    "                        transform=TEST_AUGS_3D, aug_rate=0,\n",
    "                        num_workers=16, shuffle=False, drop_last=False)"
   ]
  },
  {
   "cell_type": "code",
   "execution_count": 11,
   "metadata": {},
   "outputs": [
    {
     "name": "stdout",
     "output_type": "stream",
     "text": [
      "outs/181104_base_b64_noaug_valid40/cams/True/Acinetobacter_baumannii/Tomo_532nm_suppr_1_sp007_timeMarker_001_data_180905.mat.png\n"
     ]
    }
   ],
   "source": [
    "import torch.nn.functional as F\n",
    "for i, (input_, label_, path) in enumerate(test_loader):\n",
    "    input_.requires_grad_(True)    \n",
    "    respond_cam, gdcam, gdcampp, gunhocam, predict = grad_cam.multicam(input_, None)\n",
    "    \n",
    "    img = input_[0, 0].detach().numpy()\n",
    "    \n",
    "    label = test_loader.dataset.idx_to_class[label_.item()]\n",
    "    pred = test_loader.dataset.idx_to_class[predict.item()]\n",
    "    fig = plt.figure(figsize=(20, 20))\n",
    "    plt.suptitle(\"File : %s\\n Label : %s, pred : %s\"%(path, label, pred),\n",
    "                 fontsize=16, y=0.61)\n",
    "    \n",
    "    zdim = 10; cmap=\"hot\"\n",
    "    ax = plt.subplot(151)\n",
    "    ax.set_title(\"image z:%d\"%(zdim))\n",
    "    plt.imshow(img[:, :, zdim],         cmap=cmap)\n",
    "    ax = plt.subplot(152)\n",
    "    ax.set_title(\"respond cam\")\n",
    "    plt.imshow(respond_cam[:, :, zdim], cmap=cmap)\n",
    "    ax = plt.subplot(153)\n",
    "    ax.set_title(\"gradcam\")\n",
    "    plt.imshow(gdcam[:, :, zdim],       cmap=cmap)\n",
    "    ax = plt.subplot(154)\n",
    "    ax.set_title(\"gdcampp\")\n",
    "    plt.imshow(gdcampp[:, :, zdim],     cmap=cmap)\n",
    "    ax = plt.subplot(155)\n",
    "    ax.set_title(\"gunhocam\")\n",
    "    plt.imshow(gunhocam[:, :, zdim],    cmap=cmap)\n",
    "\n",
    "    # /data2/DW/180930_bac/valid40/test/Acinetobacter_baumannii/Tomo_532nm_suppr_1_sp007_timeMarker_001_data_180905.mat\n",
    "    save_path = \"outs/\" + target_dir + \"/cams/\" + \"True/\" if label == pred else \"False/\"\n",
    "    file_name = path[0][path[0].find(\"/test/\") + 6:] + \".png\"\n",
    "    os.makedirs(os.path.dirname(save_path + file_name), exist_ok=True)\n",
    "    plt.savefig(save_path + file_name, dpi=fig.dpi)\n",
    "    print(save_path + file_name)\n",
    "    \n",
    "    # plt.show()\n",
    "    plt.close()\n",
    "    # cam_img = GradCam.cam_on_image(img, cam_mask)\n",
    "    \n",
    "    \"\"\"\n",
    "    gb_img = gb_model(input_, index=target_index)\n",
    "    cam_gb = gb_model.gb_on_cam(cam_mask, gb_img)\n",
    "    \n",
    "    plt.figure(figsize=(20, 20))\n",
    "    plt.suptitle(\"File : %s\\n Label : %s, pred : %s\"%(path,\n",
    "                                                      test_loader.dataset.idx_to_class[label_.item()],\n",
    "                                                      test_loader.dataset.idx_to_class[predict.item()]),\n",
    "                 fontsize=16, y=0.61)\n",
    "    \n",
    "    plt.subplot(141); plt.imshow(img[:, :, 10], cmap=\"hot\")\n",
    "    plt.subplot(142); plt.imshow(cam_mask[:, :, 10], cmap=\"hot\")\n",
    "    \n",
    "    plt.subplot(143); plt.imshow(gb_img[:, :, 10]);\n",
    "    plt.subplot(144); plt.imshow(cam_gb[:, :, 10]);\n",
    "    plt.show()\n",
    "    \"\"\""
   ]
  },
  {
   "cell_type": "code",
   "execution_count": null,
   "metadata": {},
   "outputs": [],
   "source": []
  }
 ],
 "metadata": {
  "kernelspec": {
   "display_name": "Python 3",
   "language": "python",
   "name": "python3"
  },
  "language_info": {
   "codemirror_mode": {
    "name": "ipython",
    "version": 3
   },
   "file_extension": ".py",
   "mimetype": "text/x-python",
   "name": "python",
   "nbconvert_exporter": "python",
   "pygments_lexer": "ipython3",
   "version": "3.5.2"
  }
 },
 "nbformat": 4,
 "nbformat_minor": 2
}
