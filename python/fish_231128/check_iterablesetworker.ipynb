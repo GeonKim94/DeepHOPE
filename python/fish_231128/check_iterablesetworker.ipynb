{
 "cells": [
  {
   "cell_type": "code",
   "execution_count": 14,
   "metadata": {},
   "outputs": [
    {
     "name": "stdout",
     "output_type": "stream",
     "text": [
      "tensor([1])\n",
      "tensor([2])\n",
      "tensor([3])\n"
     ]
    }
   ],
   "source": [
    "import torch\n",
    "import math\n",
    "from torch.utils.data import IterableDataset, DataLoader\n",
    "\n",
    "class MyIterableDataset(IterableDataset):\n",
    "    def __init__(self, data):\n",
    "        self.data = data\n",
    "    \n",
    "    def __iter__(self):\n",
    "        return iter(self.data)\n",
    "\n",
    "#def worker_init_fn(worker_id):\n",
    "#    # Set random seed for each worker based on worker_id\n",
    "#    torch.manual_seed(torch.initial_seed() + worker_id)\n",
    "def worker_init_fn(worker_id):\n",
    "    worker_info = torch.utils.data.get_worker_info()\n",
    "    \n",
    "    dataset = worker_info.dataset\n",
    "    worker_id = worker_info.id\n",
    "    split_size = len(dataset.data) // worker_info.num_workers\n",
    "    \n",
    "    dataset.data = dataset.data[worker_id * split_size: (worker_id + 1) * split_size]\n",
    "    \n",
    "\n",
    "# Assuming you have some data\n",
    "data = [1, 2, 3, 4, 5]\n",
    "\n",
    "# Create an instance of your IterableDataset\n",
    "dataset = MyIterableDataset(data)\n",
    "\n",
    "# Create a DataLoader with IterableDataset and specify worker_init_fn\n",
    "# Here, num_workers is the number of worker processes\n",
    "dataloader = DataLoader(dataset, batch_size = 1, num_workers = 3, worker_init_fn=worker_init_fn)\n",
    "\n",
    "# Iterate over the DataLoader\n",
    "for batch in dataloader:\n",
    "    print(batch)"
   ]
  },
  {
   "cell_type": "code",
   "execution_count": null,
   "metadata": {},
   "outputs": [],
   "source": []
  }
 ],
 "metadata": {
  "kernelspec": {
   "display_name": "env_clam",
   "language": "python",
   "name": "python3"
  },
  "language_info": {
   "codemirror_mode": {
    "name": "ipython",
    "version": 3
   },
   "file_extension": ".py",
   "mimetype": "text/x-python",
   "name": "python",
   "nbconvert_exporter": "python",
   "pygments_lexer": "ipython3",
   "version": "3.8.18"
  }
 },
 "nbformat": 4,
 "nbformat_minor": 2
}
